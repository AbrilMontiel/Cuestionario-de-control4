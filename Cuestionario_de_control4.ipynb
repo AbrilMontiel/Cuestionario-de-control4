{
  "nbformat": 4,
  "nbformat_minor": 0,
  "metadata": {
    "colab": {
      "name": "Cuestionario.de.control4.ipynb",
      "provenance": [],
      "authorship_tag": "ABX9TyP+Aj2Q+QSYJsxJ3/0sv13A",
      "include_colab_link": true
    },
    "kernelspec": {
      "name": "python3",
      "display_name": "Python 3"
    },
    "language_info": {
      "name": "python"
    }
  },
  "cells": [
    {
      "cell_type": "markdown",
      "metadata": {
        "id": "view-in-github",
        "colab_type": "text"
      },
      "source": [
        "<a href=\"https://colab.research.google.com/github/AbrilMontiel/Cuestionario-de-control4/blob/master/Cuestionario_de_control4.ipynb\" target=\"_parent\"><img src=\"https://colab.research.google.com/assets/colab-badge.svg\" alt=\"Open In Colab\"/></a>"
      ]
    },
    {
      "cell_type": "code",
      "metadata": {
        "colab": {
          "base_uri": "https://localhost:8080/"
        },
        "id": "G_37k2Actoo5",
        "outputId": "22f260d1-cae4-4c21-cdc5-8caf3b4ac33a"
      },
      "source": [
        "!cat junio.dat"
      ],
      "execution_count": 1,
      "outputs": [
        {
          "output_type": "stream",
          "name": "stdout",
          "text": [
            "numero de trabajador, nombres, paterno, materno, horas extra, sueldo base, año de ingreso\r\n",
            "2345,CARLOS,PEREZ,CASTILLO,0,9850,2017\r\n",
            "5754,ANGEL,GOMEZ,GARRIDO,1,9850,2020\r\n",
            "5345,JESUS,MARTIN,SANTOS,2,9850,2016\r\n",
            "3267,DAVID,JIMENEZ,LOZANO,2,9850,2017\r\n",
            "8765,PEDRO,RUIZ,GUERRERO,2,9850,2017\r\n",
            "5454,DANIEL,HERNANDEZ,CANO,3,9850,2018\r\n",
            "3456,ALEJANDRO,DIAZ,PRIETO,2,9850,2018\r\n",
            "3445,MARIA,MORENO,MENDEZ,1,9850,2018\r\n",
            "9088,ALBERTO,MU�OZ,CRUZ,1,9850,2017\r\n",
            "8877,RAFAEL,ALVAREZ,FLORES,2,9850,2017\r\n",
            "6767,FERNANDO,ROMERO,HERRERA,4,9850,2019\r\n",
            "5654,PABLO,ALONSO,GALLEGO,1,9850,2019\r\n",
            "4323,JORGE,GUTIERREZ,MARQUEZ,2,9850,2020\r\n",
            "2232,RAMON,NAVARRO,LEON,1,9850,2016"
          ]
        }
      ]
    },
    {
      "cell_type": "code",
      "metadata": {
        "colab": {
          "base_uri": "https://localhost:8080/"
        },
        "id": "06BQMZG4tz6S",
        "outputId": "b98fee08-650e-4798-ff8c-962c71596147"
      },
      "source": [
        "archivo = open('junio.dat', 'rt' , encoding= 'latin-1')\n",
        "print(archivo.read())\n"
      ],
      "execution_count": 2,
      "outputs": [
        {
          "output_type": "stream",
          "name": "stdout",
          "text": [
            "numero de trabajador, nombres, paterno, materno, horas extra, sueldo base, aÃ±o de ingreso\n",
            "2345,CARLOS,PEREZ,CASTILLO,0,9850,2017\n",
            "5754,ANGEL,GOMEZ,GARRIDO,1,9850,2020\n",
            "5345,JESUS,MARTIN,SANTOS,2,9850,2016\n",
            "3267,DAVID,JIMENEZ,LOZANO,2,9850,2017\n",
            "8765,PEDRO,RUIZ,GUERRERO,2,9850,2017\n",
            "5454,DANIEL,HERNANDEZ,CANO,3,9850,2018\n",
            "3456,ALEJANDRO,DIAZ,PRIETO,2,9850,2018\n",
            "3445,MARIA,MORENO,MENDEZ,1,9850,2018\n",
            "9088,ALBERTO,MUOZ,CRUZ,1,9850,2017\n",
            "8877,RAFAEL,ALVAREZ,FLORES,2,9850,2017\n",
            "6767,FERNANDO,ROMERO,HERRERA,4,9850,2019\n",
            "5654,PABLO,ALONSO,GALLEGO,1,9850,2019\n",
            "4323,JORGE,GUTIERREZ,MARQUEZ,2,9850,2020\n",
            "2232,RAMON,NAVARRO,LEON,1,9850,2016\n"
          ]
        }
      ]
    },
    {
      "cell_type": "code",
      "metadata": {
        "id": "z_BNxXGVt3vD"
      },
      "source": [
        "class Trabajador:\n",
        "  def __init__( self, nt, nom, pat, mat, he, sb, ai ):\n",
        "    self.__numero_trabajador = nt\n",
        "    #Asi para todos los atributos\n",
        "  #Aqui van todos los metodos de acceso\n",
        "  def set_numero_trabajador( self, nt):\n",
        "    self.__numero_trabajador = nt\n",
        "\n",
        "  #Metodos de uso gral. --> metodos que hacen calculos de la logica"
      ],
      "execution_count": 3,
      "outputs": []
    },
    {
      "cell_type": "code",
      "metadata": {
        "id": "HTExW1uft6-J"
      },
      "source": [
        "class NominaADT:\n",
        "  def __init__( self, ruta_archivo ):\n",
        "    #Abrir el archivo y determinar el numero de empleados ---> num_emp\n",
        "    self.__data = Array( num_emp )\n",
        "\n",
        "  def calcular_sueldos( self ):\n",
        "    #iterar sobre el Array y hacer el calculo de sueldos\n",
        "  \n",
        "  def buscar_mas_antiguo( self ):\n",
        "    #iterar y buscar en el Array el de mayor atntiguedad en el puesto\n",
        "\n",
        "  def buscar_menor_antiguedad( self ):\n",
        "    #iterar y buscar en el Array el de menor atntiguedad en el puesto"
      ],
      "execution_count": null,
      "outputs": []
    },
    {
      "cell_type": "code",
      "metadata": {
        "colab": {
          "base_uri": "https://localhost:8080/"
        },
        "id": "BxLKy8Ent76K",
        "outputId": "a26bef86-69ec-4b88-bf12-f9888a6711a5"
      },
      "source": [
        "#Ejemplo de como calcular las prestaciones\n",
        "sueldo_base = 100\n",
        "anio = 2019\n",
        "anti = 2\n",
        "prestacion = 100*( 2*0.03 )\n",
        "print(sueldo_base + prestacion)"
      ],
      "execution_count": 4,
      "outputs": [
        {
          "output_type": "stream",
          "name": "stdout",
          "text": [
            "106.0\n"
          ]
        }
      ]
    }
  ]
}